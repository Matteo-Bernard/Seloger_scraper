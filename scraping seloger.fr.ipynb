{
 "cells": [
  {
   "cell_type": "code",
   "execution_count": 2,
   "metadata": {},
   "outputs": [],
   "source": [
    "import pandas as pd\n",
    "import numpy as np\n",
    "from bs4 import BeautifulSoup\n",
    "import requests\n",
    "import random\n",
    "import io\n",
    "import re\n",
    "from datetime import datetime, date, timedelta"
   ]
  },
  {
   "cell_type": "markdown",
   "metadata": {},
   "source": [
    "#### **Scrape annonces**"
   ]
  },
  {
   "cell_type": "code",
   "execution_count": 3,
   "metadata": {},
   "outputs": [],
   "source": [
    "url = 'https://www.seloger.com/list.htm?projects=2,5&types=2,1&natures=1,2,4&places=[{%22inseeCodes%22:[750115]}]&mandatorycommodities=0&enterprise=0&qsVersion=1.0&m=homepage_buy-redirection-search_results'\n",
    "response = requests.get(url,headers= {'User-Agent': 'Safari/537.36'},timeout= random.randint(7, 14))\n",
    "soup = BeautifulSoup(response.text,'html.parser')"
   ]
  },
  {
   "cell_type": "markdown",
   "metadata": {},
   "source": [
    "#### **Scrape datas**"
   ]
  },
  {
   "cell_type": "code",
   "execution_count": 5,
   "metadata": {},
   "outputs": [],
   "source": [
    "url = \"https://www.seloger.com/annonces/achat/appartement/paris-15eme-75/emeriau-zola/231403269.htm?projects=2,5&types=2,1&natures=1,2,4&places=[{%22inseeCodes%22:[750115]}]&mandatorycommodities=0&enterprise=0&qsVersion=1.0&m=search_to_detail&lv=L\"\n",
    "response = requests.get(url,headers= {'User-Agent': 'Safari/537.36'},timeout= random.randint(7, 14))\n",
    "soup = BeautifulSoup(response.text,'html.parser')"
   ]
  },
  {
   "cell_type": "code",
   "execution_count": 6,
   "metadata": {},
   "outputs": [],
   "source": [
    "data = {}"
   ]
  },
  {
   "cell_type": "code",
   "execution_count": 7,
   "metadata": {},
   "outputs": [],
   "source": [
    "data['date'] = pd.Timestamp.now()"
   ]
  },
  {
   "cell_type": "code",
   "execution_count": 8,
   "metadata": {},
   "outputs": [],
   "source": [
    "data['ref_code'] = re.search(r'\\d{8}', url).group()"
   ]
  },
  {
   "cell_type": "code",
   "execution_count": 9,
   "metadata": {},
   "outputs": [],
   "source": [
    "s = soup.find('div',{\"class\":\"Summarystyled__Title-sc-1u9xobv-4 dbveQQ\"}).text\n",
    "if \"Appartement\" in s: \n",
    "    data['type'] = 'apartment'\n",
    "elif \"Maison\" in s:\n",
    "    data['type'] = 'house'\n",
    "else:\n",
    "    data['type'] = 'other'"
   ]
  },
  {
   "cell_type": "code",
   "execution_count": 10,
   "metadata": {},
   "outputs": [],
   "source": [
    "s = soup.find('span', {'class': \"global-styles__TextNoWrap-sc-1gbe8ip-6 gxurQr\"}).text\n",
    "s = s.replace(\" \", \"\").replace(\"€\", \"\").strip()\n",
    "data['price'] = s"
   ]
  },
  {
   "cell_type": "code",
   "execution_count": 11,
   "metadata": {},
   "outputs": [],
   "source": [
    "s = soup.find('span', {'class' : \"Localizationstyled__City-sc-gdkcr2-1 bgtLnh\"}).text\n",
    "data['zip_code'] = re.search(r'\\((\\d{5})\\)', s).group(1)"
   ]
  },
  {
   "cell_type": "code",
   "execution_count": 12,
   "metadata": {},
   "outputs": [],
   "source": [
    "s_list = [s.text for s in soup.find_all('div',{'class':\"Tags__TagContainer-sc-edpl7u-0 EPxew\"})]\n",
    "data['room'] = s_list[0].split()[0]\n",
    "data['bed'] = s_list[1].split()[0]\n",
    "data['area'] = s_list[2].split()[0]\n",
    "\n",
    "floor = s_list[3].split()[-1].split('/')\n",
    "\n",
    "data['floor'] = floor[0]\n",
    "data['max_floor'] = floor[1]"
   ]
  },
  {
   "cell_type": "code",
   "execution_count": 13,
   "metadata": {},
   "outputs": [],
   "source": [
    "s = soup.find('div', {'class' : \"Previewstyled__Grade-sc-k3u73o-6 ehFYCZ\"}).text\n",
    "data['dpe'] = s\n"
   ]
  },
  {
   "cell_type": "code",
   "execution_count": 14,
   "metadata": {},
   "outputs": [
    {
     "data": {
      "text/plain": [
       "{'date': Timestamp('2025-03-19 10:26:36.716860'),\n",
       " 'ref_code': '23140326',\n",
       " 'type': 'apartment',\n",
       " 'price': '630000',\n",
       " 'zip_code': '75015',\n",
       " 'room': '2',\n",
       " 'bed': '1',\n",
       " 'area': '71',\n",
       " 'floor': '20',\n",
       " 'max_floor': '–',\n",
       " 'dpe': 'E'}"
      ]
     },
     "execution_count": 14,
     "metadata": {},
     "output_type": "execute_result"
    }
   ],
   "source": [
    "data"
   ]
  },
  {
   "cell_type": "code",
   "execution_count": null,
   "metadata": {},
   "outputs": [],
   "source": [
    "ref_code = data.pop('ref_code')\n",
    "df = pd.DataFrame.from_dict({ref_code: data}, orient='columns')"
   ]
  },
  {
   "cell_type": "code",
   "execution_count": 17,
   "metadata": {},
   "outputs": [
    {
     "data": {
      "text/html": [
       "<div>\n",
       "<style scoped>\n",
       "    .dataframe tbody tr th:only-of-type {\n",
       "        vertical-align: middle;\n",
       "    }\n",
       "\n",
       "    .dataframe tbody tr th {\n",
       "        vertical-align: top;\n",
       "    }\n",
       "\n",
       "    .dataframe thead th {\n",
       "        text-align: right;\n",
       "    }\n",
       "</style>\n",
       "<table border=\"1\" class=\"dataframe\">\n",
       "  <thead>\n",
       "    <tr style=\"text-align: right;\">\n",
       "      <th></th>\n",
       "      <th>23140326</th>\n",
       "    </tr>\n",
       "  </thead>\n",
       "  <tbody>\n",
       "    <tr>\n",
       "      <th>area</th>\n",
       "      <td>71</td>\n",
       "    </tr>\n",
       "    <tr>\n",
       "      <th>bed</th>\n",
       "      <td>1</td>\n",
       "    </tr>\n",
       "    <tr>\n",
       "      <th>date</th>\n",
       "      <td>2025-03-19 10:26:36.716860</td>\n",
       "    </tr>\n",
       "    <tr>\n",
       "      <th>dpe</th>\n",
       "      <td>E</td>\n",
       "    </tr>\n",
       "    <tr>\n",
       "      <th>floor</th>\n",
       "      <td>20</td>\n",
       "    </tr>\n",
       "    <tr>\n",
       "      <th>max_floor</th>\n",
       "      <td>–</td>\n",
       "    </tr>\n",
       "    <tr>\n",
       "      <th>price</th>\n",
       "      <td>630000</td>\n",
       "    </tr>\n",
       "    <tr>\n",
       "      <th>room</th>\n",
       "      <td>2</td>\n",
       "    </tr>\n",
       "    <tr>\n",
       "      <th>type</th>\n",
       "      <td>apartment</td>\n",
       "    </tr>\n",
       "    <tr>\n",
       "      <th>zip_code</th>\n",
       "      <td>75015</td>\n",
       "    </tr>\n",
       "  </tbody>\n",
       "</table>\n",
       "</div>"
      ],
      "text/plain": [
       "                             23140326\n",
       "area                               71\n",
       "bed                                 1\n",
       "date       2025-03-19 10:26:36.716860\n",
       "dpe                                 E\n",
       "floor                              20\n",
       "max_floor                           –\n",
       "price                          630000\n",
       "room                                2\n",
       "type                        apartment\n",
       "zip_code                        75015"
      ]
     },
     "execution_count": 17,
     "metadata": {},
     "output_type": "execute_result"
    }
   ],
   "source": [
    "df"
   ]
  },
  {
   "cell_type": "code",
   "execution_count": 18,
   "metadata": {},
   "outputs": [
    {
     "data": {
      "text/plain": [
       "23140326    2025-03-19 10:26:36.716860\n",
       "Name: date, dtype: object"
      ]
     },
     "execution_count": 18,
     "metadata": {},
     "output_type": "execute_result"
    }
   ],
   "source": [
    "df.loc['date']"
   ]
  },
  {
   "cell_type": "code",
   "execution_count": null,
   "metadata": {},
   "outputs": [],
   "source": []
  }
 ],
 "metadata": {
  "kernelspec": {
   "display_name": "Python 3",
   "language": "python",
   "name": "python3"
  },
  "language_info": {
   "codemirror_mode": {
    "name": "ipython",
    "version": 3
   },
   "file_extension": ".py",
   "mimetype": "text/x-python",
   "name": "python",
   "nbconvert_exporter": "python",
   "pygments_lexer": "ipython3",
   "version": "3.12.3"
  }
 },
 "nbformat": 4,
 "nbformat_minor": 2
}
