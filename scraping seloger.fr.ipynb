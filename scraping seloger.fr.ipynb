{
 "cells": [
  {
   "cell_type": "code",
   "execution_count": 20,
   "metadata": {},
   "outputs": [],
   "source": [
    "import pandas as pd\n",
    "import numpy as np\n",
    "from bs4 import BeautifulSoup\n",
    "import requests\n",
    "import random\n",
    "import io\n",
    "import re"
   ]
  },
  {
   "cell_type": "code",
   "execution_count": 35,
   "metadata": {},
   "outputs": [],
   "source": [
    "dataset = pd.read_csv('dataset.csv')"
   ]
  },
  {
   "cell_type": "code",
   "execution_count": 21,
   "metadata": {},
   "outputs": [],
   "source": [
    "url = \"https://www.seloger.com/annonces/achat/appartement/paris-15eme-75/emeriau-zola/231403269.htm?projects=2,5&types=2,1&natures=1,2,4&places=[{%22inseeCodes%22:[750115]}]&mandatorycommodities=0&enterprise=0&qsVersion=1.0&m=search_to_detail&lv=L\"\n",
    "response = requests.get(url,headers= {'User-Agent': 'Safari/537.36'},timeout= random.randint(7, 14))\n",
    "soup = BeautifulSoup(response.text,'html.parser')"
   ]
  },
  {
   "cell_type": "code",
   "execution_count": 22,
   "metadata": {},
   "outputs": [],
   "source": [
    "data = {}"
   ]
  },
  {
   "cell_type": "code",
   "execution_count": 23,
   "metadata": {},
   "outputs": [],
   "source": [
    "data['date'] = pd.Timestamp.now()"
   ]
  },
  {
   "cell_type": "code",
   "execution_count": 24,
   "metadata": {},
   "outputs": [],
   "source": [
    "ref_code = re.search(r'\\d{8}', url).group()"
   ]
  },
  {
   "cell_type": "code",
   "execution_count": 25,
   "metadata": {},
   "outputs": [],
   "source": [
    "s = soup.find('div',{\"class\":\"Summarystyled__Title-sc-1u9xobv-4 dbveQQ\"}).text\n",
    "if \"Appartement\" in s: \n",
    "    data['type'] = 'apartment'\n",
    "elif \"Maison\" in s:\n",
    "    data['type'] = 'house'\n",
    "else:\n",
    "    data['type'] = 'other'"
   ]
  },
  {
   "cell_type": "code",
   "execution_count": 26,
   "metadata": {},
   "outputs": [],
   "source": [
    "s = soup.find('span', {'class': \"global-styles__TextNoWrap-sc-1gbe8ip-6 gxurQr\"}).text\n",
    "s = s.replace(\" \", \"\").replace(\"€\", \"\").strip()\n",
    "data['price'] = s"
   ]
  },
  {
   "cell_type": "code",
   "execution_count": 27,
   "metadata": {},
   "outputs": [],
   "source": [
    "s = soup.find('span', {'class' : \"Localizationstyled__City-sc-gdkcr2-1 bgtLnh\"}).text\n",
    "data['zip_code'] = re.search(r'\\((\\d{5})\\)', s).group(1)"
   ]
  },
  {
   "cell_type": "code",
   "execution_count": 28,
   "metadata": {},
   "outputs": [],
   "source": [
    "s_list = [s.text for s in soup.find_all('div',{'class':\"Tags__TagContainer-sc-edpl7u-0 EPxew\"})]\n",
    "data['room'] = s_list[0].split()[0]\n",
    "data['bed'] = s_list[1].split()[0]\n",
    "data['area'] = s_list[2].split()[0]\n",
    "\n",
    "floor = s_list[3].split()[-1].split('/')\n",
    "\n",
    "data['floor'] = floor[0]\n",
    "data['max_floor'] = floor[1]"
   ]
  },
  {
   "cell_type": "code",
   "execution_count": 29,
   "metadata": {},
   "outputs": [],
   "source": [
    "s = soup.find('div', {'class' : \"Previewstyled__Grade-sc-k3u73o-6 ehFYCZ\"}).text\n",
    "data['dpe'] = s\n"
   ]
  },
  {
   "cell_type": "code",
   "execution_count": 40,
   "metadata": {},
   "outputs": [],
   "source": [
    "data = pd.DataFrame(data, columns=[ref_code])"
   ]
  },
  {
   "cell_type": "code",
   "execution_count": 42,
   "metadata": {},
   "outputs": [],
   "source": [
    "dataset = pd.concat([dataset, data])\n",
    "dataset.to_csv('dataset.csv')"
   ]
  },
  {
   "cell_type": "code",
   "execution_count": null,
   "metadata": {},
   "outputs": [],
   "source": []
  }
 ],
 "metadata": {
  "kernelspec": {
   "display_name": "Python 3",
   "language": "python",
   "name": "python3"
  },
  "language_info": {
   "codemirror_mode": {
    "name": "ipython",
    "version": 3
   },
   "file_extension": ".py",
   "mimetype": "text/x-python",
   "name": "python",
   "nbconvert_exporter": "python",
   "pygments_lexer": "ipython3",
   "version": "3.12.3"
  }
 },
 "nbformat": 4,
 "nbformat_minor": 2
}
