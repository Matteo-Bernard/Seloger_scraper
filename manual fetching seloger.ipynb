{
 "cells": [
  {
   "cell_type": "code",
   "execution_count": 3,
   "metadata": {},
   "outputs": [],
   "source": [
    "import pandas as pd\n",
    "from bs4 import BeautifulSoup"
   ]
  },
  {
   "cell_type": "code",
   "execution_count": 28,
   "metadata": {},
   "outputs": [],
   "source": [
    "with open(\"html/html-m1.html\", \"r\", encoding=\"utf-8\") as file:\n",
    "    html = file.read()"
   ]
  },
  {
   "cell_type": "code",
   "execution_count": 29,
   "metadata": {},
   "outputs": [],
   "source": [
    "soup = BeautifulSoup(html,'html.parser')"
   ]
  },
  {
   "cell_type": "code",
   "execution_count": 30,
   "metadata": {},
   "outputs": [],
   "source": [
    "links = soup.find_all(\"a\", {\"data-testid\": \"sl.explore.coveringLink\"})\n",
    "urls = [(\"seloger.com\"+link[\"href\"]) if link[\"href\"].startswith(\"/annonces/\") else link[\"href\"] for link in links if \"href\" in link.attrs]"
   ]
  },
  {
   "cell_type": "code",
   "execution_count": 31,
   "metadata": {},
   "outputs": [
    {
     "data": {
      "text/plain": [
       "['seloger.com/annonces/achat/appartement/paris-9eme-75/trudaine-maubeuge/234712823.htm',\n",
       " 'seloger.com/annonces/achat/appartement/paris-10eme-75/saint-vincent-de-paul-lariboisiere/220020241.htm',\n",
       " 'seloger.com/annonces/achat/appartement/paris-20eme-75/amandiers/237601097.htm',\n",
       " 'seloger.com/annonces/achat/appartement/paris-10eme-75/236389093.htm',\n",
       " 'seloger.com/annonces/achat/appartement/paris-17eme-75/237370261.htm',\n",
       " 'seloger.com/annonces/achat/appartement/paris-16eme-75/237076387.htm',\n",
       " 'seloger.com/annonces/achat/appartement/paris-8eme-75/235981347.htm',\n",
       " 'seloger.com/annonces/achat/appartement/paris-19eme-75/bassin-de-la-villette/231020361.htm',\n",
       " 'seloger.com/annonces/achat/appartement/paris-9eme-75/trudaine-maubeuge/234294743.htm',\n",
       " 'seloger.com/annonces/achat/appartement/paris-19eme-75/pont-de-flandre/226482845.htm',\n",
       " 'seloger.com/annonces/achat/appartement/paris-9eme-75/trudaine-maubeuge/234589859.htm',\n",
       " 'seloger.com/annonces/achat/appartement/paris-18eme-75/amiraux-simplon-poissonniers/229150415.htm',\n",
       " 'seloger.com/annonces/achat/appartement/paris-19eme-75/pont-de-flandre/226990199.htm',\n",
       " 'seloger.com/annonces/achat/appartement/paris-18eme-75/clignancourt-jules-joffrin/236955051.htm',\n",
       " 'seloger.com/annonces/achat/appartement/paris-18eme-75/clignancourt-jules-joffrin/228342119.htm',\n",
       " 'seloger.com/annonces/achat/appartement/paris-13eme-75/olympiades-choisy/237872477.htm',\n",
       " 'seloger.com/annonces/achat/appartement/paris-14eme-75/237644395.htm',\n",
       " 'seloger.com/annonces/achat/appartement/paris-16eme-75/auteuil-sud/235947881.htm',\n",
       " 'seloger.com/annonces/achat/appartement/paris-10eme-75/porte-saint-denis-paradis/237859205.htm',\n",
       " 'seloger.com/annonces/achat/appartement/paris-20eme-75/pere-lachaise-reunion/225625869.htm',\n",
       " 'seloger.com/annonces/achat/appartement/paris-9eme-75/lafayette-richer/227224877.htm',\n",
       " 'seloger.com/annonces/achat/appartement/paris-17eme-75/clichy-batignolles/229190861.htm',\n",
       " 'seloger.com/annonces/achat/appartement/paris-15eme-75/violet-commerce/234526653.htm',\n",
       " 'seloger.com/annonces/achat/appartement/paris-16eme-75/auteuil-sud/200024477.htm',\n",
       " 'seloger.com/annonces/achat-de-prestige/appartement/paris-18eme-75/clignancourt-jules-joffrin/231287281.htm',\n",
       " 'seloger.com/annonces/achat-de-prestige/appartement/paris-18eme-75/clignancourt-jules-joffrin/229053063.htm',\n",
       " 'seloger.com/annonces/achat/appartement/paris-18eme-75/clignancourt-jules-joffrin/232583337.htm']"
      ]
     },
     "execution_count": 31,
     "metadata": {},
     "output_type": "execute_result"
    }
   ],
   "source": [
    "urls"
   ]
  },
  {
   "cell_type": "code",
   "execution_count": null,
   "metadata": {},
   "outputs": [],
   "source": []
  }
 ],
 "metadata": {
  "kernelspec": {
   "display_name": "Python 3",
   "language": "python",
   "name": "python3"
  },
  "language_info": {
   "codemirror_mode": {
    "name": "ipython",
    "version": 3
   },
   "file_extension": ".py",
   "mimetype": "text/x-python",
   "name": "python",
   "nbconvert_exporter": "python",
   "pygments_lexer": "ipython3",
   "version": "3.11.9"
  }
 },
 "nbformat": 4,
 "nbformat_minor": 2
}
