{
 "cells": [
  {
   "cell_type": "code",
   "execution_count": 90,
   "metadata": {},
   "outputs": [],
   "source": [
    "import pandas as pd\n",
    "from bs4 import BeautifulSoup\n",
    "import re\n",
    "import os"
   ]
  },
  {
   "cell_type": "code",
   "execution_count": 91,
   "metadata": {},
   "outputs": [],
   "source": [
    "folder = 'html/'\n",
    "files = [fichier for fichier in os.listdir(folder) if os.path.isfile(os.path.join(folder, fichier))]\n",
    "files.remove('.DS_Store')"
   ]
  },
  {
   "cell_type": "code",
   "execution_count": 95,
   "metadata": {},
   "outputs": [],
   "source": [
    "dataset = pd.DataFrame()"
   ]
  },
  {
   "cell_type": "code",
   "execution_count": 96,
   "metadata": {},
   "outputs": [
    {
     "name": "stdout",
     "output_type": "stream",
     "text": [
      "slgr-m50.html\n",
      "slgr-m46.html\n",
      "slgr-m11.html\n",
      "slgr-m31.html\n",
      "slgr-m27.html\n",
      "slgr-m3.html\n",
      "slgr-m2.html\n",
      "slgr-m26.html\n",
      "slgr-m30.html\n",
      "slgr-m10.html\n",
      "slgr-m47.html\n",
      "slgr-m37.html\n",
      "slgr-m21.html\n",
      "slgr-m5.html\n",
      "slgr-m9.html\n",
      "slgr-m40.html\n",
      "slgr-m17.html\n",
      "slgr-m16.html\n",
      "slgr-m41.html\n",
      "slgr-m8.html\n",
      "slgr-m4.html\n",
      "slgr-m20.html\n",
      "slgr-m36.html\n",
      "slgr-m19.html\n",
      "slgr-l1.html\n",
      "slgr-m7.html\n",
      "slgr-m23.html\n",
      "slgr-m35.html\n",
      "slgr-m15.html\n",
      "slgr-m42.html\n",
      "slgr-m39.html\n",
      "slgr-m38.html\n",
      "slgr-m43.html\n",
      "slgr-m14.html\n",
      "slgr-m34.html\n",
      "slgr-m22.html\n",
      "slgr-m6.html\n",
      "slgr-m18.html\n",
      "slgr-m13.html\n",
      "slgr-m44.html\n",
      "slgr-m29.html\n"
     ]
    },
    {
     "ename": "ValueError",
     "evalue": "invalid literal for int() with base 10: '-de1.1M'",
     "output_type": "error",
     "traceback": [
      "\u001b[0;31m---------------------------------------------------------------------------\u001b[0m",
      "\u001b[0;31mValueError\u001b[0m                                Traceback (most recent call last)",
      "Cell \u001b[0;32mIn[96], line 23\u001b[0m\n\u001b[1;32m     21\u001b[0m \u001b[38;5;66;03m# PRIX\u001b[39;00m\n\u001b[1;32m     22\u001b[0m price \u001b[38;5;241m=\u001b[39m card\u001b[38;5;241m.\u001b[39mfind(\u001b[38;5;124m'\u001b[39m\u001b[38;5;124mdiv\u001b[39m\u001b[38;5;124m'\u001b[39m, {\u001b[38;5;124m\"\u001b[39m\u001b[38;5;124mclass\u001b[39m\u001b[38;5;124m\"\u001b[39m:\u001b[38;5;124m\"\u001b[39m\u001b[38;5;124msc-hycgNl exCwSO\u001b[39m\u001b[38;5;124m\"\u001b[39m})\u001b[38;5;241m.\u001b[39mtext\n\u001b[0;32m---> 23\u001b[0m data[\u001b[38;5;124m'\u001b[39m\u001b[38;5;124mprice\u001b[39m\u001b[38;5;124m'\u001b[39m] \u001b[38;5;241m=\u001b[39m \u001b[38;5;28;43mint\u001b[39;49m\u001b[43m(\u001b[49m\u001b[43mprice\u001b[49m\u001b[38;5;241;43m.\u001b[39;49m\u001b[43mreplace\u001b[49m\u001b[43m(\u001b[49m\u001b[38;5;124;43m\"\u001b[39;49m\u001b[38;5;124;43m \u001b[39;49m\u001b[38;5;124;43m\"\u001b[39;49m\u001b[43m,\u001b[49m\u001b[43m \u001b[49m\u001b[38;5;124;43m\"\u001b[39;49m\u001b[38;5;124;43m\"\u001b[39;49m\u001b[43m)\u001b[49m\u001b[38;5;241;43m.\u001b[39;49m\u001b[43mreplace\u001b[49m\u001b[43m(\u001b[49m\u001b[38;5;124;43m\"\u001b[39;49m\u001b[38;5;124;43m€\u001b[39;49m\u001b[38;5;124;43m\"\u001b[39;49m\u001b[43m,\u001b[49m\u001b[43m \u001b[49m\u001b[38;5;124;43m\"\u001b[39;49m\u001b[38;5;124;43m\"\u001b[39;49m\u001b[43m)\u001b[49m\u001b[38;5;241;43m.\u001b[39;49m\u001b[43mstrip\u001b[49m\u001b[43m(\u001b[49m\u001b[43m)\u001b[49m\u001b[43m)\u001b[49m\n\u001b[1;32m     24\u001b[0m \u001b[38;5;66;03m# ZIP CODE\u001b[39;00m\n\u001b[1;32m     25\u001b[0m \u001b[38;5;28mzip\u001b[39m \u001b[38;5;241m=\u001b[39m card\u001b[38;5;241m.\u001b[39mfind(\u001b[38;5;124m'\u001b[39m\u001b[38;5;124mdiv\u001b[39m\u001b[38;5;124m'\u001b[39m, {\u001b[38;5;124m'\u001b[39m\u001b[38;5;124mdata-test\u001b[39m\u001b[38;5;124m'\u001b[39m : \u001b[38;5;124m\"\u001b[39m\u001b[38;5;124msl.address\u001b[39m\u001b[38;5;124m\"\u001b[39m})\u001b[38;5;241m.\u001b[39mtext\n",
      "\u001b[0;31mValueError\u001b[0m: invalid literal for int() with base 10: '-de1.1M'"
     ]
    }
   ],
   "source": [
    "for file in files:\n",
    "    print(file)\n",
    "    with open(f\"html/{file}\", \"r\", encoding=\"utf-8\") as file:\n",
    "        html = file.read()\n",
    "    soup = BeautifulSoup(html,'html.parser')\n",
    "    card_list = soup.find_all(\"div\", {'data-testid':\"sl.explore.card-container\"})\n",
    "\n",
    "    for card in card_list:\n",
    "        data = {}\n",
    "        # DATE\n",
    "        data['date'] = pd.Timestamp.now().strftime('%Y-%m-%d')\n",
    "        # URL\n",
    "        attrs = card.find(\"a\", {\"data-testid\": \"sl.explore.coveringLink\"}).attrs\n",
    "        url = \"seloger.com\" + attrs[\"href\"] if attrs.get(\"href\", \"\").startswith(\"/annonces/\") else attrs.get(\"href\")\n",
    "        data['url'] = url\n",
    "        #  REF\n",
    "        ref = re.search(r'\\d{9}', url).group()\n",
    "        data['ref'] = ref\n",
    "        # TYPE ANNONCE\n",
    "        data['type'] = card.find('div', {\"data-test\":\"sl.title\"}).text\n",
    "        # PRIX\n",
    "        price = card.find('div', {\"class\":\"sc-hycgNl exCwSO\"}).text\n",
    "        data['price'] = int(price.replace(\" \", \"\").replace(\"€\", \"\").strip())\n",
    "        # ZIP CODE\n",
    "        zip = card.find('div', {'data-test' : \"sl.address\"}).text\n",
    "        data['zip_code'] = re.search(r'\\((\\d{5})\\)', zip).group(1)\n",
    "\n",
    "        dataset = dataset.assign(**{ref: pd.Series(data)})\n",
    "    dataset.to_csv('dataset.csv')\n"
   ]
  },
  {
   "cell_type": "code",
   "execution_count": 72,
   "metadata": {},
   "outputs": [
    {
     "data": {
      "text/plain": [
       "[<li>1 pièce</li>, <li>18 m²</li>, <li>Étage 6/6</li>]"
      ]
     },
     "execution_count": 72,
     "metadata": {},
     "output_type": "execute_result"
    }
   ],
   "source": [
    "[cl.find('ul', {'data-test': 'sl.tagsLine'}).find_all('li') for cl in class_list]"
   ]
  },
  {
   "cell_type": "code",
   "execution_count": 68,
   "metadata": {},
   "outputs": [
    {
     "ename": "AttributeError",
     "evalue": "ResultSet object has no attribute 'text'. You're probably treating a list of elements like a single element. Did you call find_all() when you meant to call find()?",
     "output_type": "error",
     "traceback": [
      "\u001b[0;31m---------------------------------------------------------------------------\u001b[0m",
      "\u001b[0;31mAttributeError\u001b[0m                            Traceback (most recent call last)",
      "Cell \u001b[0;32mIn[68], line 1\u001b[0m\n\u001b[0;32m----> 1\u001b[0m [\u001b[43mli\u001b[49m\u001b[38;5;241;43m.\u001b[39;49m\u001b[43mtext\u001b[49m \u001b[38;5;28;01mfor\u001b[39;00m li \u001b[38;5;129;01min\u001b[39;00m [cl\u001b[38;5;241m.\u001b[39mfind(\u001b[38;5;124m'\u001b[39m\u001b[38;5;124mul\u001b[39m\u001b[38;5;124m'\u001b[39m, {\u001b[38;5;124m'\u001b[39m\u001b[38;5;124mdata-test\u001b[39m\u001b[38;5;124m'\u001b[39m: \u001b[38;5;124m'\u001b[39m\u001b[38;5;124msl.tagsLine\u001b[39m\u001b[38;5;124m'\u001b[39m})\u001b[38;5;241m.\u001b[39mfind_all(\u001b[38;5;124m'\u001b[39m\u001b[38;5;124mli\u001b[39m\u001b[38;5;124m'\u001b[39m) \u001b[38;5;28;01mfor\u001b[39;00m cl \u001b[38;5;129;01min\u001b[39;00m class_list]]\n",
      "File \u001b[0;32m/Library/Frameworks/Python.framework/Versions/3.12/lib/python3.12/site-packages/bs4/element.py:2428\u001b[0m, in \u001b[0;36mResultSet.__getattr__\u001b[0;34m(self, key)\u001b[0m\n\u001b[1;32m   2426\u001b[0m \u001b[38;5;28;01mdef\u001b[39;00m \u001b[38;5;21m__getattr__\u001b[39m(\u001b[38;5;28mself\u001b[39m, key):\n\u001b[1;32m   2427\u001b[0m \u001b[38;5;250m    \u001b[39m\u001b[38;5;124;03m\"\"\"Raise a helpful exception to explain a common code fix.\"\"\"\u001b[39;00m\n\u001b[0;32m-> 2428\u001b[0m     \u001b[38;5;28;01mraise\u001b[39;00m \u001b[38;5;167;01mAttributeError\u001b[39;00m(\n\u001b[1;32m   2429\u001b[0m         \u001b[38;5;124m\"\u001b[39m\u001b[38;5;124mResultSet object has no attribute \u001b[39m\u001b[38;5;124m'\u001b[39m\u001b[38;5;132;01m%s\u001b[39;00m\u001b[38;5;124m'\u001b[39m\u001b[38;5;124m. You\u001b[39m\u001b[38;5;124m'\u001b[39m\u001b[38;5;124mre probably treating a list of elements like a single element. Did you call find_all() when you meant to call find()?\u001b[39m\u001b[38;5;124m\"\u001b[39m \u001b[38;5;241m%\u001b[39m key\n\u001b[1;32m   2430\u001b[0m     )\n",
      "\u001b[0;31mAttributeError\u001b[0m: ResultSet object has no attribute 'text'. You're probably treating a list of elements like a single element. Did you call find_all() when you meant to call find()?"
     ]
    }
   ],
   "source": [
    "[li.text for li in [cl.find('ul', {'data-test': 'sl.tagsLine'}).find_all('li') for cl in class_list]]"
   ]
  },
  {
   "cell_type": "code",
   "execution_count": null,
   "metadata": {},
   "outputs": [],
   "source": [
    "tag_list = [li.text for li in [cl.find('ul', {'data-test': 'sl.tagsLine'}).find_all('li') for cl in class_list]]\n",
    "\n",
    "for tag in tag_list:\n",
    "    if \"pièce\" in tag:\n",
    "        room = tag.split()[0]\n",
    "    elif 'm²' in tag:\n",
    "        space = tag.split()[0]\n",
    "    elif 'Étage' in tag:\n",
    "        floor_tag = tag.split()[-1].split('/')\n",
    "        floor = floor_tag[0]\n",
    "        max_floor = floor_tag[1]\n",
    "    "
   ]
  },
  {
   "cell_type": "code",
   "execution_count": 66,
   "metadata": {},
   "outputs": [
    {
     "data": {
      "text/plain": [
       "'1'"
      ]
     },
     "execution_count": 66,
     "metadata": {},
     "output_type": "execute_result"
    }
   ],
   "source": [
    "room"
   ]
  },
  {
   "cell_type": "code",
   "execution_count": 67,
   "metadata": {},
   "outputs": [
    {
     "data": {
      "text/plain": [
       "['1 pièce', '18 m²', 'Étage 6/6']"
      ]
     },
     "execution_count": 67,
     "metadata": {},
     "output_type": "execute_result"
    }
   ],
   "source": [
    "tag_list"
   ]
  },
  {
   "cell_type": "code",
   "execution_count": null,
   "metadata": {},
   "outputs": [],
   "source": []
  }
 ],
 "metadata": {
  "kernelspec": {
   "display_name": "Python 3",
   "language": "python",
   "name": "python3"
  },
  "language_info": {
   "codemirror_mode": {
    "name": "ipython",
    "version": 3
   },
   "file_extension": ".py",
   "mimetype": "text/x-python",
   "name": "python",
   "nbconvert_exporter": "python",
   "pygments_lexer": "ipython3",
   "version": "3.12.3"
  }
 },
 "nbformat": 4,
 "nbformat_minor": 2
}
